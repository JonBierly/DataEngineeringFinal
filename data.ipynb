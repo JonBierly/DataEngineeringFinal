{
 "cells": [
  {
   "cell_type": "code",
   "execution_count": 1,
   "id": "9378b121",
   "metadata": {},
   "outputs": [
    {
     "name": "stdout",
     "output_type": "stream",
     "text": [
      "LeBron James player ID: 2544\n"
     ]
    }
   ],
   "source": [
    "import numpy as np\n",
    "from nba_api.stats.static import players\n",
    "from nba_api.stats.endpoints import playergamelog\n",
    "import pandas as pd\n",
    "\n",
    "lebron_list = players.find_players_by_full_name(\"LeBron James\")\n",
    "if lebron_list:\n",
    "    # We assume the first matching result is LeBron James (typically his full_name is \"LeBron James\")\n",
    "    lebron = lebron_list[0]\n",
    "    player_id = lebron['id']\n",
    "    print(\"LeBron James player ID:\", player_id)\n",
    "else:\n",
    "    raise Exception(\"Player not found.\")"
   ]
  },
  {
   "cell_type": "code",
   "execution_count": 8,
   "id": "555b6a74",
   "metadata": {},
   "outputs": [
    {
     "name": "stdout",
     "output_type": "stream",
     "text": [
      "\n",
      "Fetching game logs for season: 2003-04\n",
      "  Regular season games fetched: 79\n",
      "  Playoff games fetched: 0\n",
      "\n",
      "Fetching game logs for season: 2004-05\n",
      "  Regular season games fetched: 80\n",
      "  Playoff games fetched: 0\n",
      "\n",
      "Fetching game logs for season: 2005-06\n",
      "  Regular season games fetched: 79\n"
     ]
    },
    {
     "name": "stderr",
     "output_type": "stream",
     "text": [
      "/var/folders/jm/k0sbz0kn3lv4fr42mlqlgyz40000gn/T/ipykernel_90653/1451436411.py:34: FutureWarning: The behavior of DataFrame concatenation with empty or all-NA entries is deprecated. In a future version, this will no longer exclude empty or all-NA columns when determining the result dtypes. To retain the old behavior, exclude the relevant entries before the concat operation.\n",
      "  playoff_career = pd.concat([playoff_career, playoff_df], ignore_index=True)\n"
     ]
    },
    {
     "name": "stdout",
     "output_type": "stream",
     "text": [
      "  Playoff games fetched: 13\n",
      "\n",
      "Fetching game logs for season: 2006-07\n",
      "  Regular season games fetched: 78\n",
      "  Playoff games fetched: 20\n",
      "\n",
      "Fetching game logs for season: 2007-08\n",
      "  Regular season games fetched: 75\n",
      "  Playoff games fetched: 13\n",
      "\n",
      "Fetching game logs for season: 2008-09\n",
      "  Regular season games fetched: 81\n",
      "  Playoff games fetched: 14\n",
      "\n",
      "Fetching game logs for season: 2009-10\n",
      "  Regular season games fetched: 76\n",
      "  Playoff games fetched: 11\n",
      "\n",
      "Fetching game logs for season: 2010-11\n",
      "  Regular season games fetched: 79\n",
      "  Playoff games fetched: 21\n",
      "\n",
      "Fetching game logs for season: 2011-12\n",
      "  Regular season games fetched: 62\n",
      "  Playoff games fetched: 23\n",
      "\n",
      "Fetching game logs for season: 2012-13\n",
      "  Regular season games fetched: 76\n",
      "  Playoff games fetched: 23\n",
      "\n",
      "Fetching game logs for season: 2013-14\n",
      "  Regular season games fetched: 77\n",
      "  Playoff games fetched: 20\n",
      "\n",
      "Fetching game logs for season: 2014-15\n",
      "  Regular season games fetched: 69\n",
      "  Playoff games fetched: 20\n",
      "\n",
      "Fetching game logs for season: 2015-16\n",
      "  Regular season games fetched: 76\n",
      "  Playoff games fetched: 21\n",
      "\n",
      "Fetching game logs for season: 2016-17\n",
      "  Regular season games fetched: 74\n",
      "  Playoff games fetched: 18\n",
      "\n",
      "Fetching game logs for season: 2017-18\n",
      "  Regular season games fetched: 82\n",
      "  Playoff games fetched: 22\n",
      "\n",
      "Fetching game logs for season: 2018-19\n",
      "  Regular season games fetched: 55\n"
     ]
    },
    {
     "name": "stderr",
     "output_type": "stream",
     "text": [
      "/var/folders/jm/k0sbz0kn3lv4fr42mlqlgyz40000gn/T/ipykernel_90653/1451436411.py:34: FutureWarning: The behavior of DataFrame concatenation with empty or all-NA entries is deprecated. In a future version, this will no longer exclude empty or all-NA columns when determining the result dtypes. To retain the old behavior, exclude the relevant entries before the concat operation.\n",
      "  playoff_career = pd.concat([playoff_career, playoff_df], ignore_index=True)\n"
     ]
    },
    {
     "name": "stdout",
     "output_type": "stream",
     "text": [
      "  Playoff games fetched: 0\n",
      "\n",
      "Fetching game logs for season: 2019-20\n",
      "  Regular season games fetched: 67\n",
      "  Playoff games fetched: 21\n",
      "\n",
      "Fetching game logs for season: 2020-21\n",
      "  Regular season games fetched: 45\n",
      "  Playoff games fetched: 6\n",
      "\n",
      "Fetching game logs for season: 2021-22\n",
      "  Regular season games fetched: 56\n"
     ]
    },
    {
     "name": "stderr",
     "output_type": "stream",
     "text": [
      "/var/folders/jm/k0sbz0kn3lv4fr42mlqlgyz40000gn/T/ipykernel_90653/1451436411.py:34: FutureWarning: The behavior of DataFrame concatenation with empty or all-NA entries is deprecated. In a future version, this will no longer exclude empty or all-NA columns when determining the result dtypes. To retain the old behavior, exclude the relevant entries before the concat operation.\n",
      "  playoff_career = pd.concat([playoff_career, playoff_df], ignore_index=True)\n"
     ]
    },
    {
     "name": "stdout",
     "output_type": "stream",
     "text": [
      "  Playoff games fetched: 0\n",
      "\n",
      "Fetching game logs for season: 2022-23\n",
      "  Regular season games fetched: 55\n",
      "  Playoff games fetched: 16\n",
      "\n",
      "Fetching game logs for season: 2023-24\n",
      "  Regular season games fetched: 71\n",
      "  Playoff games fetched: 5\n",
      "\n",
      "Fetching game logs for season: 2024-25\n",
      "  Regular season games fetched: 69\n",
      "  Playoff games fetched: 0\n"
     ]
    },
    {
     "name": "stderr",
     "output_type": "stream",
     "text": [
      "/var/folders/jm/k0sbz0kn3lv4fr42mlqlgyz40000gn/T/ipykernel_90653/1451436411.py:34: FutureWarning: The behavior of DataFrame concatenation with empty or all-NA entries is deprecated. In a future version, this will no longer exclude empty or all-NA columns when determining the result dtypes. To retain the old behavior, exclude the relevant entries before the concat operation.\n",
      "  playoff_career = pd.concat([playoff_career, playoff_df], ignore_index=True)\n"
     ]
    },
    {
     "name": "stdout",
     "output_type": "stream",
     "text": [
      "\n",
      "Complete Regular Season Career Game Logs:\n",
      "  SEASON_ID  Player_ID     Game_ID     GAME_DATE      MATCHUP WL  MIN  FGM  \\\n",
      "0     22003       2544  0020301179  APR 14, 2004    CLE @ NYK  W   35    8   \n",
      "1     22003       2544  0020301162  APR 12, 2004  CLE vs. MIL  W   45    9   \n",
      "2     22003       2544  0020301151  APR 10, 2004  CLE vs. MIA  W   32    4   \n",
      "3     22003       2544  0020301137  APR 09, 2004    CLE @ MIA  L   42    6   \n",
      "4     22003       2544  0020301128  APR 07, 2004    CLE @ MEM  L   36    4   \n",
      "\n",
      "   FGA  FG_PCT  ...  REB  AST  STL  BLK  TOV  PF  PTS  PLUS_MINUS  \\\n",
      "0   17   0.471  ...    1    5    3    0    5   1   17          -6   \n",
      "1   20   0.450  ...    7    9    2    0    1   1   27          11   \n",
      "2   11   0.364  ...    3   11    0    0    2   3   10          14   \n",
      "3   14   0.429  ...    7    8    1    0    8   2   24         -16   \n",
      "4   11   0.364  ...    3    5    3    0    2   4   14         -11   \n",
      "\n",
      "   VIDEO_AVAILABLE   SEASON  \n",
      "0                0  2003-04  \n",
      "1                0  2003-04  \n",
      "2                0  2003-04  \n",
      "3                0  2003-04  \n",
      "4                0  2003-04  \n",
      "\n",
      "[5 rows x 28 columns]\n",
      "\n",
      "Complete Playoff Career Game Logs:\n",
      "  SEASON_ID Player_ID     Game_ID     GAME_DATE      MATCHUP WL MIN FGM FGA  \\\n",
      "0     42005      2544  0040500207  MAY 21, 2006    CLE @ DET  L  47  11  24   \n",
      "1     42005      2544  0040500206  MAY 19, 2006  CLE vs. DET  L  48   8  20   \n",
      "2     42005      2544  0040500205  MAY 17, 2006    CLE @ DET  W  47  13  30   \n",
      "3     42005      2544  0040500204  MAY 15, 2006  CLE vs. DET  W  48   8  23   \n",
      "4     42005      2544  0040500203  MAY 13, 2006  CLE vs. DET  W  48   9  18   \n",
      "\n",
      "   FG_PCT  ... REB AST  STL BLK TOV  PF PTS PLUS_MINUS VIDEO_AVAILABLE  \\\n",
      "0   0.458  ...   8   2    1   0   3   2  27        -16               0   \n",
      "1   0.400  ...  11   5    1   1   7   2  32         -2               0   \n",
      "2   0.433  ...   5   5    2   1   2   3  32          2               0   \n",
      "3   0.348  ...   8   9    2   2   8   3  22          2               0   \n",
      "4   0.500  ...  10  10    4   1   4   2  21          9               0   \n",
      "\n",
      "    SEASON  \n",
      "0  2005-06  \n",
      "1  2005-06  \n",
      "2  2005-06  \n",
      "3  2005-06  \n",
      "4  2005-06  \n",
      "\n",
      "[5 rows x 28 columns]\n"
     ]
    }
   ],
   "source": [
    "import time\n",
    "\n",
    "\n",
    "regular_season_career = pd.DataFrame()\n",
    "playoff_career = pd.DataFrame()\n",
    "\n",
    "# Define the range of seasons; LeBron's rookie season was 2003-04.\n",
    "# For example, to get seasons from 2003-04 up to 2022-23:\n",
    "start_year = 2003\n",
    "end_year = 2025  # end_year is the starting calendar year for the season, e.g., 2022-23 season => 2022\n",
    "\n",
    "# Loop over each season\n",
    "for season_year in range(start_year, end_year):\n",
    "    # Format the season string as \"YYYY-YY\"\n",
    "    season_str = f\"{season_year}-{str(season_year + 1)[-2:]}\"\n",
    "    print(f\"\\nFetching game logs for season: {season_str}\")\n",
    "\n",
    "    # Regular Season\n",
    "    try:\n",
    "        reg_logs = playergamelog.PlayerGameLog(player_id=player_id, season=season_str, season_type_all_star='Regular Season')\n",
    "        reg_df = reg_logs.get_data_frames()[0]\n",
    "        # Add season info as a new column\n",
    "        reg_df['SEASON'] = season_str\n",
    "        regular_season_career = pd.concat([regular_season_career, reg_df], ignore_index=True)\n",
    "        print(f\"  Regular season games fetched: {len(reg_df)}\")\n",
    "    except Exception as e:\n",
    "        print(f\"  Could not fetch regular season logs for {season_str}: {e}\")\n",
    "\n",
    "    # Playoffs\n",
    "    try:\n",
    "        playoff_logs = playergamelog.PlayerGameLog(player_id=player_id, season=season_str, season_type_all_star='Playoffs')\n",
    "        playoff_df = playoff_logs.get_data_frames()[0]\n",
    "        playoff_df['SEASON'] = season_str\n",
    "        playoff_career = pd.concat([playoff_career, playoff_df], ignore_index=True)\n",
    "        print(f\"  Playoff games fetched: {len(playoff_df)}\")\n",
    "    except Exception as e:\n",
    "        print(f\"  Could not fetch playoff logs for {season_str}: {e}\")\n",
    "\n",
    "    # Optional: pause to be respectful with API calls (avoid hitting rate limits)\n",
    "    time.sleep(1)\n",
    "\n",
    "# Display the first few rows of the complete career logs\n",
    "print(\"\\nComplete Regular Season Career Game Logs:\")\n",
    "print(regular_season_career.head())\n",
    "\n",
    "print(\"\\nComplete Playoff Career Game Logs:\")\n",
    "print(playoff_career.head())\n"
   ]
  },
  {
   "cell_type": "code",
   "execution_count": 14,
   "id": "c9254456",
   "metadata": {},
   "outputs": [
    {
     "name": "stdout",
     "output_type": "stream",
     "text": [
      "  SEASON_ID  Player_ID     Game_ID     GAME_DATE      MATCHUP WL  MIN  FGM  \\\n",
      "0     22003       2544  0020301179  APR 14, 2004    CLE @ NYK  W   35    8   \n",
      "1     22003       2544  0020301162  APR 12, 2004  CLE vs. MIL  W   45    9   \n",
      "2     22003       2544  0020301151  APR 10, 2004  CLE vs. MIA  W   32    4   \n",
      "3     22003       2544  0020301137  APR 09, 2004    CLE @ MIA  L   42    6   \n",
      "4     22003       2544  0020301128  APR 07, 2004    CLE @ MEM  L   36    4   \n",
      "\n",
      "   FGA  FG_PCT  ...  REB  AST  STL  BLK  TOV  PF  PTS  PLUS_MINUS  \\\n",
      "0   17   0.471  ...    1    5    3    0    5   1   17          -6   \n",
      "1   20   0.450  ...    7    9    2    0    1   1   27          11   \n",
      "2   11   0.364  ...    3   11    0    0    2   3   10          14   \n",
      "3   14   0.429  ...    7    8    1    0    8   2   24         -16   \n",
      "4   11   0.364  ...    3    5    3    0    2   4   14         -11   \n",
      "\n",
      "   VIDEO_AVAILABLE   SEASON  \n",
      "0                0  2003-04  \n",
      "1                0  2003-04  \n",
      "2                0  2003-04  \n",
      "3                0  2003-04  \n",
      "4                0  2003-04  \n",
      "\n",
      "[5 rows x 28 columns]\n",
      "Index(['SEASON_ID', 'Player_ID', 'Game_ID', 'GAME_DATE', 'MATCHUP', 'WL',\n",
      "       'MIN', 'FGM', 'FGA', 'FG_PCT', 'FG3M', 'FG3A', 'FG3_PCT', 'FTM', 'FTA',\n",
      "       'FT_PCT', 'OREB', 'DREB', 'REB', 'AST', 'STL', 'BLK', 'TOV', 'PF',\n",
      "       'PTS', 'PLUS_MINUS', 'VIDEO_AVAILABLE', 'SEASON'],\n",
      "      dtype='object')\n"
     ]
    }
   ],
   "source": [
    "print(regular_season_career.head())\n",
    "print(regular_season_career.columns)"
   ]
  },
  {
   "cell_type": "code",
   "execution_count": null,
   "id": "60197ac8",
   "metadata": {},
   "outputs": [],
   "source": [
    "regular_season_career.to_csv(\"LeBron_Regular_Season_Career_Game_Logs.csv\", index=False)\n",
    "playoff_career.to_csv(\"LeBron_Playoff_Career_Game_Logs.csv\", index=False)"
   ]
  },
  {
   "cell_type": "code",
   "execution_count": 2,
   "id": "26ec28fb",
   "metadata": {},
   "outputs": [],
   "source": [
    "regular_season_career = pd.read_csv(\"LeBron_Regular_Season_Career_Game_Logs.csv\")\n",
    "playoff_career = pd.read_csv(\"LeBron_Playoff_Career_Game_Logs.csv\")"
   ]
  },
  {
   "cell_type": "code",
   "execution_count": 8,
   "id": "6c176b21",
   "metadata": {},
   "outputs": [
    {
     "data": {
      "application/vnd.microsoft.datawrangler.viewer.v0+json": {
       "columns": [
        {
         "name": "index",
         "rawType": "int64",
         "type": "integer"
        },
        {
         "name": "SEASON_ID",
         "rawType": "int64",
         "type": "integer"
        },
        {
         "name": "Player_ID",
         "rawType": "int64",
         "type": "integer"
        },
        {
         "name": "Game_ID",
         "rawType": "int64",
         "type": "integer"
        },
        {
         "name": "GAME_DATE",
         "rawType": "object",
         "type": "string"
        },
        {
         "name": "MATCHUP",
         "rawType": "object",
         "type": "string"
        },
        {
         "name": "WL",
         "rawType": "object",
         "type": "string"
        },
        {
         "name": "MIN",
         "rawType": "int64",
         "type": "integer"
        },
        {
         "name": "FGM",
         "rawType": "int64",
         "type": "integer"
        },
        {
         "name": "FGA",
         "rawType": "int64",
         "type": "integer"
        },
        {
         "name": "FG_PCT",
         "rawType": "float64",
         "type": "float"
        },
        {
         "name": "FG3M",
         "rawType": "int64",
         "type": "integer"
        },
        {
         "name": "FG3A",
         "rawType": "int64",
         "type": "integer"
        },
        {
         "name": "FG3_PCT",
         "rawType": "float64",
         "type": "float"
        },
        {
         "name": "FTM",
         "rawType": "int64",
         "type": "integer"
        },
        {
         "name": "FTA",
         "rawType": "int64",
         "type": "integer"
        },
        {
         "name": "FT_PCT",
         "rawType": "float64",
         "type": "float"
        },
        {
         "name": "OREB",
         "rawType": "int64",
         "type": "integer"
        },
        {
         "name": "DREB",
         "rawType": "int64",
         "type": "integer"
        },
        {
         "name": "REB",
         "rawType": "int64",
         "type": "integer"
        },
        {
         "name": "AST",
         "rawType": "int64",
         "type": "integer"
        },
        {
         "name": "STL",
         "rawType": "int64",
         "type": "integer"
        },
        {
         "name": "BLK",
         "rawType": "int64",
         "type": "integer"
        },
        {
         "name": "TOV",
         "rawType": "int64",
         "type": "integer"
        },
        {
         "name": "PF",
         "rawType": "int64",
         "type": "integer"
        },
        {
         "name": "PTS",
         "rawType": "int64",
         "type": "integer"
        },
        {
         "name": "PLUS_MINUS",
         "rawType": "int64",
         "type": "integer"
        },
        {
         "name": "VIDEO_AVAILABLE",
         "rawType": "int64",
         "type": "integer"
        },
        {
         "name": "SEASON",
         "rawType": "object",
         "type": "string"
        }
       ],
       "conversionMethod": "pd.DataFrame",
       "ref": "2d0fca80-538f-4ded-a58d-1a293fd8ac4d",
       "rows": [
        [
         "0",
         "22003",
         "2544",
         "20301179",
         "APR 14, 2004",
         "CLE @ NYK",
         "W",
         "35",
         "8",
         "17",
         "0.471",
         "0",
         "3",
         "0.0",
         "1",
         "1",
         "1.0",
         "0",
         "1",
         "1",
         "5",
         "3",
         "0",
         "5",
         "1",
         "17",
         "-6",
         "0",
         "2003-04"
        ],
        [
         "1",
         "22003",
         "2544",
         "20301162",
         "APR 12, 2004",
         "CLE vs. MIL",
         "W",
         "45",
         "9",
         "20",
         "0.45",
         "1",
         "4",
         "0.25",
         "8",
         "11",
         "0.727",
         "1",
         "6",
         "7",
         "9",
         "2",
         "0",
         "1",
         "1",
         "27",
         "11",
         "0",
         "2003-04"
        ],
        [
         "2",
         "22003",
         "2544",
         "20301151",
         "APR 10, 2004",
         "CLE vs. MIA",
         "W",
         "32",
         "4",
         "11",
         "0.364",
         "0",
         "2",
         "0.0",
         "2",
         "5",
         "0.4",
         "1",
         "2",
         "3",
         "11",
         "0",
         "0",
         "2",
         "3",
         "10",
         "14",
         "0",
         "2003-04"
        ],
        [
         "3",
         "22003",
         "2544",
         "20301137",
         "APR 09, 2004",
         "CLE @ MIA",
         "L",
         "42",
         "6",
         "14",
         "0.429",
         "1",
         "1",
         "1.0",
         "11",
         "15",
         "0.733",
         "1",
         "6",
         "7",
         "8",
         "1",
         "0",
         "8",
         "2",
         "24",
         "-16",
         "0",
         "2003-04"
        ],
        [
         "4",
         "22003",
         "2544",
         "20301128",
         "APR 07, 2004",
         "CLE @ MEM",
         "L",
         "36",
         "4",
         "11",
         "0.364",
         "0",
         "0",
         "0.0",
         "6",
         "7",
         "0.857",
         "0",
         "3",
         "3",
         "5",
         "3",
         "0",
         "2",
         "4",
         "14",
         "-11",
         "0",
         "2003-04"
        ]
       ],
       "shape": {
        "columns": 28,
        "rows": 5
       }
      },
      "text/html": [
       "<div>\n",
       "<style scoped>\n",
       "    .dataframe tbody tr th:only-of-type {\n",
       "        vertical-align: middle;\n",
       "    }\n",
       "\n",
       "    .dataframe tbody tr th {\n",
       "        vertical-align: top;\n",
       "    }\n",
       "\n",
       "    .dataframe thead th {\n",
       "        text-align: right;\n",
       "    }\n",
       "</style>\n",
       "<table border=\"1\" class=\"dataframe\">\n",
       "  <thead>\n",
       "    <tr style=\"text-align: right;\">\n",
       "      <th></th>\n",
       "      <th>SEASON_ID</th>\n",
       "      <th>Player_ID</th>\n",
       "      <th>Game_ID</th>\n",
       "      <th>GAME_DATE</th>\n",
       "      <th>MATCHUP</th>\n",
       "      <th>WL</th>\n",
       "      <th>MIN</th>\n",
       "      <th>FGM</th>\n",
       "      <th>FGA</th>\n",
       "      <th>FG_PCT</th>\n",
       "      <th>...</th>\n",
       "      <th>REB</th>\n",
       "      <th>AST</th>\n",
       "      <th>STL</th>\n",
       "      <th>BLK</th>\n",
       "      <th>TOV</th>\n",
       "      <th>PF</th>\n",
       "      <th>PTS</th>\n",
       "      <th>PLUS_MINUS</th>\n",
       "      <th>VIDEO_AVAILABLE</th>\n",
       "      <th>SEASON</th>\n",
       "    </tr>\n",
       "  </thead>\n",
       "  <tbody>\n",
       "    <tr>\n",
       "      <th>0</th>\n",
       "      <td>22003</td>\n",
       "      <td>2544</td>\n",
       "      <td>20301179</td>\n",
       "      <td>APR 14, 2004</td>\n",
       "      <td>CLE @ NYK</td>\n",
       "      <td>W</td>\n",
       "      <td>35</td>\n",
       "      <td>8</td>\n",
       "      <td>17</td>\n",
       "      <td>0.471</td>\n",
       "      <td>...</td>\n",
       "      <td>1</td>\n",
       "      <td>5</td>\n",
       "      <td>3</td>\n",
       "      <td>0</td>\n",
       "      <td>5</td>\n",
       "      <td>1</td>\n",
       "      <td>17</td>\n",
       "      <td>-6</td>\n",
       "      <td>0</td>\n",
       "      <td>2003-04</td>\n",
       "    </tr>\n",
       "    <tr>\n",
       "      <th>1</th>\n",
       "      <td>22003</td>\n",
       "      <td>2544</td>\n",
       "      <td>20301162</td>\n",
       "      <td>APR 12, 2004</td>\n",
       "      <td>CLE vs. MIL</td>\n",
       "      <td>W</td>\n",
       "      <td>45</td>\n",
       "      <td>9</td>\n",
       "      <td>20</td>\n",
       "      <td>0.450</td>\n",
       "      <td>...</td>\n",
       "      <td>7</td>\n",
       "      <td>9</td>\n",
       "      <td>2</td>\n",
       "      <td>0</td>\n",
       "      <td>1</td>\n",
       "      <td>1</td>\n",
       "      <td>27</td>\n",
       "      <td>11</td>\n",
       "      <td>0</td>\n",
       "      <td>2003-04</td>\n",
       "    </tr>\n",
       "    <tr>\n",
       "      <th>2</th>\n",
       "      <td>22003</td>\n",
       "      <td>2544</td>\n",
       "      <td>20301151</td>\n",
       "      <td>APR 10, 2004</td>\n",
       "      <td>CLE vs. MIA</td>\n",
       "      <td>W</td>\n",
       "      <td>32</td>\n",
       "      <td>4</td>\n",
       "      <td>11</td>\n",
       "      <td>0.364</td>\n",
       "      <td>...</td>\n",
       "      <td>3</td>\n",
       "      <td>11</td>\n",
       "      <td>0</td>\n",
       "      <td>0</td>\n",
       "      <td>2</td>\n",
       "      <td>3</td>\n",
       "      <td>10</td>\n",
       "      <td>14</td>\n",
       "      <td>0</td>\n",
       "      <td>2003-04</td>\n",
       "    </tr>\n",
       "    <tr>\n",
       "      <th>3</th>\n",
       "      <td>22003</td>\n",
       "      <td>2544</td>\n",
       "      <td>20301137</td>\n",
       "      <td>APR 09, 2004</td>\n",
       "      <td>CLE @ MIA</td>\n",
       "      <td>L</td>\n",
       "      <td>42</td>\n",
       "      <td>6</td>\n",
       "      <td>14</td>\n",
       "      <td>0.429</td>\n",
       "      <td>...</td>\n",
       "      <td>7</td>\n",
       "      <td>8</td>\n",
       "      <td>1</td>\n",
       "      <td>0</td>\n",
       "      <td>8</td>\n",
       "      <td>2</td>\n",
       "      <td>24</td>\n",
       "      <td>-16</td>\n",
       "      <td>0</td>\n",
       "      <td>2003-04</td>\n",
       "    </tr>\n",
       "    <tr>\n",
       "      <th>4</th>\n",
       "      <td>22003</td>\n",
       "      <td>2544</td>\n",
       "      <td>20301128</td>\n",
       "      <td>APR 07, 2004</td>\n",
       "      <td>CLE @ MEM</td>\n",
       "      <td>L</td>\n",
       "      <td>36</td>\n",
       "      <td>4</td>\n",
       "      <td>11</td>\n",
       "      <td>0.364</td>\n",
       "      <td>...</td>\n",
       "      <td>3</td>\n",
       "      <td>5</td>\n",
       "      <td>3</td>\n",
       "      <td>0</td>\n",
       "      <td>2</td>\n",
       "      <td>4</td>\n",
       "      <td>14</td>\n",
       "      <td>-11</td>\n",
       "      <td>0</td>\n",
       "      <td>2003-04</td>\n",
       "    </tr>\n",
       "  </tbody>\n",
       "</table>\n",
       "<p>5 rows × 28 columns</p>\n",
       "</div>"
      ],
      "text/plain": [
       "   SEASON_ID  Player_ID   Game_ID     GAME_DATE      MATCHUP WL  MIN  FGM  \\\n",
       "0      22003       2544  20301179  APR 14, 2004    CLE @ NYK  W   35    8   \n",
       "1      22003       2544  20301162  APR 12, 2004  CLE vs. MIL  W   45    9   \n",
       "2      22003       2544  20301151  APR 10, 2004  CLE vs. MIA  W   32    4   \n",
       "3      22003       2544  20301137  APR 09, 2004    CLE @ MIA  L   42    6   \n",
       "4      22003       2544  20301128  APR 07, 2004    CLE @ MEM  L   36    4   \n",
       "\n",
       "   FGA  FG_PCT  ...  REB  AST  STL  BLK  TOV  PF  PTS  PLUS_MINUS  \\\n",
       "0   17   0.471  ...    1    5    3    0    5   1   17          -6   \n",
       "1   20   0.450  ...    7    9    2    0    1   1   27          11   \n",
       "2   11   0.364  ...    3   11    0    0    2   3   10          14   \n",
       "3   14   0.429  ...    7    8    1    0    8   2   24         -16   \n",
       "4   11   0.364  ...    3    5    3    0    2   4   14         -11   \n",
       "\n",
       "   VIDEO_AVAILABLE   SEASON  \n",
       "0                0  2003-04  \n",
       "1                0  2003-04  \n",
       "2                0  2003-04  \n",
       "3                0  2003-04  \n",
       "4                0  2003-04  \n",
       "\n",
       "[5 rows x 28 columns]"
      ]
     },
     "execution_count": 8,
     "metadata": {},
     "output_type": "execute_result"
    }
   ],
   "source": [
    "regular_season_career.head()"
   ]
  },
  {
   "cell_type": "code",
   "execution_count": 4,
   "id": "1d9590bc",
   "metadata": {},
   "outputs": [],
   "source": [
    "from sqlalchemy import create_engine\n",
    "from sqlalchemy.engine import URL\n",
    "from sqlalchemy import text\n",
    "\n",
    "# parameters\n",
    "# !!! Please change below information with your local information\n",
    "host_ip = \"3.16.186.38\" # Use your own EC2 instance IP address.\n",
    "id = \"test1\" # Use your 'test1' username you created in Lab 10.\n",
    "pw = \"Test1234#\"  # Use your 'Test1234#' password you created in Lab 10.\n",
    "\n",
    "# connect to mysql server\n",
    "url = URL.create(\n",
    "    drivername=\"mysql+pymysql\",\n",
    "    host=host_ip,\n",
    "    port=3306,\n",
    "    username= id,\n",
    "    password=pw)\n",
    "\n",
    "sqlEngine = create_engine(url)\n",
    "sql_connection = sqlEngine.connect()"
   ]
  },
  {
   "cell_type": "code",
   "execution_count": 5,
   "id": "368dc682",
   "metadata": {},
   "outputs": [
    {
     "data": {
      "text/plain": [
       "<sqlalchemy.engine.cursor.CursorResult at 0x119190c20>"
      ]
     },
     "execution_count": 5,
     "metadata": {},
     "output_type": "execute_result"
    }
   ],
   "source": [
    "sql_connection.execute(text('DROP DATABASE IF EXISTS LebronDatabase'))"
   ]
  },
  {
   "cell_type": "code",
   "execution_count": 6,
   "id": "5c17fc49",
   "metadata": {},
   "outputs": [
    {
     "data": {
      "text/plain": [
       "<sqlalchemy.engine.cursor.CursorResult at 0x119191320>"
      ]
     },
     "execution_count": 6,
     "metadata": {},
     "output_type": "execute_result"
    }
   ],
   "source": [
    "# Make a new database. For your project, make sure you only run this step once at the beginning. You must be able to see the database in Workbench after running this command.\n",
    "sql_connection.execute(text(\"CREATE DATABASE IF NOT EXISTS LebronDatabase\"))"
   ]
  },
  {
   "cell_type": "code",
   "execution_count": 7,
   "id": "1479b208",
   "metadata": {},
   "outputs": [],
   "source": [
    "db_url = URL.create(\n",
    "    drivername=\"mysql+pymysql\",\n",
    "    host=host_ip,\n",
    "    port=3306,\n",
    "    username=id,\n",
    "    password=pw,\n",
    "    database=\"LebronDatabase\"\n",
    ")\n",
    "\n",
    "db_engine = create_engine(db_url)"
   ]
  },
  {
   "cell_type": "code",
   "execution_count": null,
   "id": "1e8d6a91",
   "metadata": {},
   "outputs": [
    {
     "data": {
      "text/plain": [
       "1561"
      ]
     },
     "execution_count": 9,
     "metadata": {},
     "output_type": "execute_result"
    }
   ],
   "source": [
    "\n",
    "regular_season_career.to_sql(name='RegularBoxScores', con=db_engine, if_exists='replace')\n"
   ]
  },
  {
   "cell_type": "code",
   "execution_count": 10,
   "id": "70823a60",
   "metadata": {},
   "outputs": [
    {
     "data": {
      "text/plain": [
       "287"
      ]
     },
     "execution_count": 10,
     "metadata": {},
     "output_type": "execute_result"
    }
   ],
   "source": [
    "playoff_career.to_sql(name='PlayoffBoxScores', con=db_engine, if_exists='replace')"
   ]
  },
  {
   "cell_type": "code",
   "execution_count": 16,
   "id": "cfb5f65a",
   "metadata": {},
   "outputs": [
    {
     "name": "stdout",
     "output_type": "stream",
     "text": [
      "   index  SEASON_ID  Player_ID   Game_ID     GAME_DATE      MATCHUP WL  MIN  \\\n",
      "0      0      22003       2544  20301179  APR 14, 2004    CLE @ NYK  W   35   \n",
      "1      1      22003       2544  20301162  APR 12, 2004  CLE vs. MIL  W   45   \n",
      "2      2      22003       2544  20301151  APR 10, 2004  CLE vs. MIA  W   32   \n",
      "3      3      22003       2544  20301137  APR 09, 2004    CLE @ MIA  L   42   \n",
      "4      4      22003       2544  20301128  APR 07, 2004    CLE @ MEM  L   36   \n",
      "\n",
      "   FGM  FGA  ...  REB  AST  STL  BLK  TOV  PF  PTS  PLUS_MINUS  \\\n",
      "0    8   17  ...    1    5    3    0    5   1   17          -6   \n",
      "1    9   20  ...    7    9    2    0    1   1   27          11   \n",
      "2    4   11  ...    3   11    0    0    2   3   10          14   \n",
      "3    6   14  ...    7    8    1    0    8   2   24         -16   \n",
      "4    4   11  ...    3    5    3    0    2   4   14         -11   \n",
      "\n",
      "   VIDEO_AVAILABLE   SEASON  \n",
      "0                0  2003-04  \n",
      "1                0  2003-04  \n",
      "2                0  2003-04  \n",
      "3                0  2003-04  \n",
      "4                0  2003-04  \n",
      "\n",
      "[5 rows x 29 columns]\n"
     ]
    }
   ],
   "source": [
    "regular_df = pd.read_sql(\"SELECT * FROM LebronDatabase.RegularBoxScores\", db_engine)\n",
    "playoff_df = pd.read_sql(\"SELECT * FROM LebronDatabase.PlayoffBoxScores\", db_engine)\n",
    "\n",
    "print(regular_df.head())"
   ]
  },
  {
   "cell_type": "code",
   "execution_count": 14,
   "id": "69d129fc",
   "metadata": {},
   "outputs": [
    {
     "data": {
      "text/plain": [
       "Index(['index', 'SEASON_ID', 'Player_ID', 'Game_ID', 'GAME_DATE', 'MATCHUP',\n",
       "       'WL', 'MIN', 'FGM', 'FGA', 'FG_PCT', 'FG3M', 'FG3A', 'FG3_PCT', 'FTM',\n",
       "       'FTA', 'FT_PCT', 'OREB', 'DREB', 'REB', 'AST', 'STL', 'BLK', 'TOV',\n",
       "       'PF', 'PTS', 'PLUS_MINUS', 'VIDEO_AVAILABLE', 'SEASON'],\n",
       "      dtype='object')"
      ]
     },
     "execution_count": 14,
     "metadata": {},
     "output_type": "execute_result"
    }
   ],
   "source": [
    "regular_df.columns"
   ]
  },
  {
   "cell_type": "code",
   "execution_count": null,
   "id": "a6056f4f",
   "metadata": {},
   "outputs": [
    {
     "data": {
      "text/plain": [
       "Index(['index', 'SEASON_ID', 'Player_ID', 'Game_ID', 'GAME_DATE', 'MATCHUP',\n",
       "       'WL', 'MIN', 'FGM', 'FGA', 'FG_PCT', 'FG3M', 'FG3A', 'FG3_PCT', 'FTM',\n",
       "       'FTA', 'FT_PCT', 'OREB', 'DREB', 'REB', 'AST', 'STL', 'BLK', 'TOV',\n",
       "       'PF', 'PTS', 'PLUS_MINUS', 'VIDEO_AVAILABLE', 'SEASON'],\n",
       "      dtype='object')"
      ]
     },
     "execution_count": 17,
     "metadata": {},
     "output_type": "execute_result"
    }
   ],
   "source": [
    "playoff_df.columns"
   ]
  },
  {
   "cell_type": "code",
   "execution_count": 20,
   "id": "85a59197",
   "metadata": {},
   "outputs": [],
   "source": [
    "regular_df['Season_Type'] = 'Regular'\n",
    "playoff_df['Season_Type'] = 'Playoffs'\n",
    "games = pd.concat([regular_df, playoff_df], ignore_index=True)"
   ]
  },
  {
   "cell_type": "code",
   "execution_count": null,
   "id": "0ddf05bc",
   "metadata": {},
   "outputs": [
    {
     "data": {
      "application/vnd.microsoft.datawrangler.viewer.v0+json": {
       "columns": [
        {
         "name": "index",
         "rawType": "int64",
         "type": "integer"
        },
        {
         "name": "index",
         "rawType": "int64",
         "type": "integer"
        },
        {
         "name": "SEASON_ID",
         "rawType": "int64",
         "type": "integer"
        },
        {
         "name": "Player_ID",
         "rawType": "int64",
         "type": "integer"
        },
        {
         "name": "Game_ID",
         "rawType": "int64",
         "type": "integer"
        },
        {
         "name": "GAME_DATE",
         "rawType": "object",
         "type": "string"
        },
        {
         "name": "MATCHUP",
         "rawType": "object",
         "type": "string"
        },
        {
         "name": "WL",
         "rawType": "object",
         "type": "string"
        },
        {
         "name": "MIN",
         "rawType": "int64",
         "type": "integer"
        },
        {
         "name": "FGM",
         "rawType": "int64",
         "type": "integer"
        },
        {
         "name": "FGA",
         "rawType": "int64",
         "type": "integer"
        },
        {
         "name": "FG_PCT",
         "rawType": "float64",
         "type": "float"
        },
        {
         "name": "FG3M",
         "rawType": "int64",
         "type": "integer"
        },
        {
         "name": "FG3A",
         "rawType": "int64",
         "type": "integer"
        },
        {
         "name": "FG3_PCT",
         "rawType": "float64",
         "type": "float"
        },
        {
         "name": "FTM",
         "rawType": "int64",
         "type": "integer"
        },
        {
         "name": "FTA",
         "rawType": "int64",
         "type": "integer"
        },
        {
         "name": "FT_PCT",
         "rawType": "float64",
         "type": "float"
        },
        {
         "name": "OREB",
         "rawType": "int64",
         "type": "integer"
        },
        {
         "name": "DREB",
         "rawType": "int64",
         "type": "integer"
        },
        {
         "name": "REB",
         "rawType": "int64",
         "type": "integer"
        },
        {
         "name": "AST",
         "rawType": "int64",
         "type": "integer"
        },
        {
         "name": "STL",
         "rawType": "int64",
         "type": "integer"
        },
        {
         "name": "BLK",
         "rawType": "int64",
         "type": "integer"
        },
        {
         "name": "TOV",
         "rawType": "int64",
         "type": "integer"
        },
        {
         "name": "PF",
         "rawType": "int64",
         "type": "integer"
        },
        {
         "name": "PTS",
         "rawType": "int64",
         "type": "integer"
        },
        {
         "name": "PLUS_MINUS",
         "rawType": "int64",
         "type": "integer"
        },
        {
         "name": "VIDEO_AVAILABLE",
         "rawType": "int64",
         "type": "integer"
        },
        {
         "name": "SEASON",
         "rawType": "object",
         "type": "string"
        },
        {
         "name": "Season_Type",
         "rawType": "object",
         "type": "string"
        }
       ],
       "conversionMethod": "pd.DataFrame",
       "ref": "8f9734fb-f8fd-4341-8462-69f16754bbc1",
       "rows": [
        [
         "0",
         "0",
         "22003",
         "2544",
         "20301179",
         "APR 14, 2004",
         "CLE @ NYK",
         "W",
         "35",
         "8",
         "17",
         "0.471",
         "0",
         "3",
         "0.0",
         "1",
         "1",
         "1.0",
         "0",
         "1",
         "1",
         "5",
         "3",
         "0",
         "5",
         "1",
         "17",
         "-6",
         "0",
         "2003-04",
         "Regular"
        ],
        [
         "1",
         "1",
         "22003",
         "2544",
         "20301162",
         "APR 12, 2004",
         "CLE vs. MIL",
         "W",
         "45",
         "9",
         "20",
         "0.45",
         "1",
         "4",
         "0.25",
         "8",
         "11",
         "0.727",
         "1",
         "6",
         "7",
         "9",
         "2",
         "0",
         "1",
         "1",
         "27",
         "11",
         "0",
         "2003-04",
         "Regular"
        ],
        [
         "2",
         "2",
         "22003",
         "2544",
         "20301151",
         "APR 10, 2004",
         "CLE vs. MIA",
         "W",
         "32",
         "4",
         "11",
         "0.364",
         "0",
         "2",
         "0.0",
         "2",
         "5",
         "0.4",
         "1",
         "2",
         "3",
         "11",
         "0",
         "0",
         "2",
         "3",
         "10",
         "14",
         "0",
         "2003-04",
         "Regular"
        ],
        [
         "3",
         "3",
         "22003",
         "2544",
         "20301137",
         "APR 09, 2004",
         "CLE @ MIA",
         "L",
         "42",
         "6",
         "14",
         "0.429",
         "1",
         "1",
         "1.0",
         "11",
         "15",
         "0.733",
         "1",
         "6",
         "7",
         "8",
         "1",
         "0",
         "8",
         "2",
         "24",
         "-16",
         "0",
         "2003-04",
         "Regular"
        ],
        [
         "4",
         "4",
         "22003",
         "2544",
         "20301128",
         "APR 07, 2004",
         "CLE @ MEM",
         "L",
         "36",
         "4",
         "11",
         "0.364",
         "0",
         "0",
         "0.0",
         "6",
         "7",
         "0.857",
         "0",
         "3",
         "3",
         "5",
         "3",
         "0",
         "2",
         "4",
         "14",
         "-11",
         "0",
         "2003-04",
         "Regular"
        ]
       ],
       "shape": {
        "columns": 30,
        "rows": 5
       }
      },
      "text/html": [
       "<div>\n",
       "<style scoped>\n",
       "    .dataframe tbody tr th:only-of-type {\n",
       "        vertical-align: middle;\n",
       "    }\n",
       "\n",
       "    .dataframe tbody tr th {\n",
       "        vertical-align: top;\n",
       "    }\n",
       "\n",
       "    .dataframe thead th {\n",
       "        text-align: right;\n",
       "    }\n",
       "</style>\n",
       "<table border=\"1\" class=\"dataframe\">\n",
       "  <thead>\n",
       "    <tr style=\"text-align: right;\">\n",
       "      <th></th>\n",
       "      <th>index</th>\n",
       "      <th>SEASON_ID</th>\n",
       "      <th>Player_ID</th>\n",
       "      <th>Game_ID</th>\n",
       "      <th>GAME_DATE</th>\n",
       "      <th>MATCHUP</th>\n",
       "      <th>WL</th>\n",
       "      <th>MIN</th>\n",
       "      <th>FGM</th>\n",
       "      <th>FGA</th>\n",
       "      <th>...</th>\n",
       "      <th>AST</th>\n",
       "      <th>STL</th>\n",
       "      <th>BLK</th>\n",
       "      <th>TOV</th>\n",
       "      <th>PF</th>\n",
       "      <th>PTS</th>\n",
       "      <th>PLUS_MINUS</th>\n",
       "      <th>VIDEO_AVAILABLE</th>\n",
       "      <th>SEASON</th>\n",
       "      <th>Season_Type</th>\n",
       "    </tr>\n",
       "  </thead>\n",
       "  <tbody>\n",
       "    <tr>\n",
       "      <th>0</th>\n",
       "      <td>0</td>\n",
       "      <td>22003</td>\n",
       "      <td>2544</td>\n",
       "      <td>20301179</td>\n",
       "      <td>APR 14, 2004</td>\n",
       "      <td>CLE @ NYK</td>\n",
       "      <td>W</td>\n",
       "      <td>35</td>\n",
       "      <td>8</td>\n",
       "      <td>17</td>\n",
       "      <td>...</td>\n",
       "      <td>5</td>\n",
       "      <td>3</td>\n",
       "      <td>0</td>\n",
       "      <td>5</td>\n",
       "      <td>1</td>\n",
       "      <td>17</td>\n",
       "      <td>-6</td>\n",
       "      <td>0</td>\n",
       "      <td>2003-04</td>\n",
       "      <td>Regular</td>\n",
       "    </tr>\n",
       "    <tr>\n",
       "      <th>1</th>\n",
       "      <td>1</td>\n",
       "      <td>22003</td>\n",
       "      <td>2544</td>\n",
       "      <td>20301162</td>\n",
       "      <td>APR 12, 2004</td>\n",
       "      <td>CLE vs. MIL</td>\n",
       "      <td>W</td>\n",
       "      <td>45</td>\n",
       "      <td>9</td>\n",
       "      <td>20</td>\n",
       "      <td>...</td>\n",
       "      <td>9</td>\n",
       "      <td>2</td>\n",
       "      <td>0</td>\n",
       "      <td>1</td>\n",
       "      <td>1</td>\n",
       "      <td>27</td>\n",
       "      <td>11</td>\n",
       "      <td>0</td>\n",
       "      <td>2003-04</td>\n",
       "      <td>Regular</td>\n",
       "    </tr>\n",
       "    <tr>\n",
       "      <th>2</th>\n",
       "      <td>2</td>\n",
       "      <td>22003</td>\n",
       "      <td>2544</td>\n",
       "      <td>20301151</td>\n",
       "      <td>APR 10, 2004</td>\n",
       "      <td>CLE vs. MIA</td>\n",
       "      <td>W</td>\n",
       "      <td>32</td>\n",
       "      <td>4</td>\n",
       "      <td>11</td>\n",
       "      <td>...</td>\n",
       "      <td>11</td>\n",
       "      <td>0</td>\n",
       "      <td>0</td>\n",
       "      <td>2</td>\n",
       "      <td>3</td>\n",
       "      <td>10</td>\n",
       "      <td>14</td>\n",
       "      <td>0</td>\n",
       "      <td>2003-04</td>\n",
       "      <td>Regular</td>\n",
       "    </tr>\n",
       "    <tr>\n",
       "      <th>3</th>\n",
       "      <td>3</td>\n",
       "      <td>22003</td>\n",
       "      <td>2544</td>\n",
       "      <td>20301137</td>\n",
       "      <td>APR 09, 2004</td>\n",
       "      <td>CLE @ MIA</td>\n",
       "      <td>L</td>\n",
       "      <td>42</td>\n",
       "      <td>6</td>\n",
       "      <td>14</td>\n",
       "      <td>...</td>\n",
       "      <td>8</td>\n",
       "      <td>1</td>\n",
       "      <td>0</td>\n",
       "      <td>8</td>\n",
       "      <td>2</td>\n",
       "      <td>24</td>\n",
       "      <td>-16</td>\n",
       "      <td>0</td>\n",
       "      <td>2003-04</td>\n",
       "      <td>Regular</td>\n",
       "    </tr>\n",
       "    <tr>\n",
       "      <th>4</th>\n",
       "      <td>4</td>\n",
       "      <td>22003</td>\n",
       "      <td>2544</td>\n",
       "      <td>20301128</td>\n",
       "      <td>APR 07, 2004</td>\n",
       "      <td>CLE @ MEM</td>\n",
       "      <td>L</td>\n",
       "      <td>36</td>\n",
       "      <td>4</td>\n",
       "      <td>11</td>\n",
       "      <td>...</td>\n",
       "      <td>5</td>\n",
       "      <td>3</td>\n",
       "      <td>0</td>\n",
       "      <td>2</td>\n",
       "      <td>4</td>\n",
       "      <td>14</td>\n",
       "      <td>-11</td>\n",
       "      <td>0</td>\n",
       "      <td>2003-04</td>\n",
       "      <td>Regular</td>\n",
       "    </tr>\n",
       "  </tbody>\n",
       "</table>\n",
       "<p>5 rows × 30 columns</p>\n",
       "</div>"
      ],
      "text/plain": [
       "   index  SEASON_ID  Player_ID   Game_ID     GAME_DATE      MATCHUP WL  MIN  \\\n",
       "0      0      22003       2544  20301179  APR 14, 2004    CLE @ NYK  W   35   \n",
       "1      1      22003       2544  20301162  APR 12, 2004  CLE vs. MIL  W   45   \n",
       "2      2      22003       2544  20301151  APR 10, 2004  CLE vs. MIA  W   32   \n",
       "3      3      22003       2544  20301137  APR 09, 2004    CLE @ MIA  L   42   \n",
       "4      4      22003       2544  20301128  APR 07, 2004    CLE @ MEM  L   36   \n",
       "\n",
       "   FGM  FGA  ...  AST  STL  BLK  TOV  PF  PTS  PLUS_MINUS  VIDEO_AVAILABLE  \\\n",
       "0    8   17  ...    5    3    0    5   1   17          -6                0   \n",
       "1    9   20  ...    9    2    0    1   1   27          11                0   \n",
       "2    4   11  ...   11    0    0    2   3   10          14                0   \n",
       "3    6   14  ...    8    1    0    8   2   24         -16                0   \n",
       "4    4   11  ...    5    3    0    2   4   14         -11                0   \n",
       "\n",
       "    SEASON  Season_Type  \n",
       "0  2003-04      Regular  \n",
       "1  2003-04      Regular  \n",
       "2  2003-04      Regular  \n",
       "3  2003-04      Regular  \n",
       "4  2003-04      Regular  \n",
       "\n",
       "[5 rows x 30 columns]"
      ]
     },
     "execution_count": 21,
     "metadata": {},
     "output_type": "execute_result"
    }
   ],
   "source": []
  },
  {
   "cell_type": "code",
   "execution_count": null,
   "id": "a12f3236",
   "metadata": {},
   "outputs": [],
   "source": []
  }
 ],
 "metadata": {
  "kernelspec": {
   "display_name": "venv",
   "language": "python",
   "name": "python3"
  },
  "language_info": {
   "codemirror_mode": {
    "name": "ipython",
    "version": 3
   },
   "file_extension": ".py",
   "mimetype": "text/x-python",
   "name": "python",
   "nbconvert_exporter": "python",
   "pygments_lexer": "ipython3",
   "version": "3.11.4"
  }
 },
 "nbformat": 4,
 "nbformat_minor": 5
}
